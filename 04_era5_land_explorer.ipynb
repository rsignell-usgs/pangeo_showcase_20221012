{
 "cells": [
  {
   "cell_type": "markdown",
   "id": "72ec305a-cd22-4bb4-baff-e6a2624765b9",
   "metadata": {},
   "source": [
    "# ERA5-Land Explorer"
   ]
  },
  {
   "cell_type": "code",
   "execution_count": null,
   "id": "f5dffd9f-3f38-4bfc-a757-73e39aa3bc8e",
   "metadata": {},
   "outputs": [],
   "source": [
    "import fsspec\n",
    "import xarray as xr\n",
    "import hvplot.xarray"
   ]
  },
  {
   "cell_type": "code",
   "execution_count": null,
   "id": "53ab4f36-0ef9-4cfe-9e8d-27b3e0143352",
   "metadata": {},
   "outputs": [],
   "source": [
    "# turn off hvplot warnings about NaNs\n",
    "import warnings\n",
    "warnings.filterwarnings(\"ignore\")"
   ]
  },
  {
   "cell_type": "code",
   "execution_count": null,
   "id": "7d6d9996-976e-4d43-8469-13ace0c09484",
   "metadata": {},
   "outputs": [],
   "source": [
    "s3_json = 's3://esip-qhub/usgs/era5_land/archive3.json'"
   ]
  },
  {
   "cell_type": "code",
   "execution_count": null,
   "id": "98964a1d-1485-49ff-969c-92ed4738aa02",
   "metadata": {},
   "outputs": [],
   "source": [
    "%%time\n",
    "fs_s3 = fsspec.filesystem(\"reference\", fo=s3_json, ref_storage_args={'skip_instance_cache':True},\n",
    "                       remote_protocol='s3', remote_options={'requester_pays':True})"
   ]
  },
  {
   "cell_type": "code",
   "execution_count": null,
   "id": "b6873ba7-5916-4b56-a6eb-1b3e82a2f991",
   "metadata": {},
   "outputs": [],
   "source": [
    "fs_s3.ls('')"
   ]
  },
  {
   "cell_type": "code",
   "execution_count": null,
   "id": "5b343fae-b528-45af-beb6-d89424b99ec9",
   "metadata": {},
   "outputs": [],
   "source": [
    "m = fs_s3.get_mapper('')\n",
    "ds = xr.open_dataset(m, engine=\"zarr\", backend_kwargs={'consolidated':False}, chunks={'time':112*10})\n",
    "ds"
   ]
  },
  {
   "cell_type": "code",
   "execution_count": null,
   "id": "341ee119-a0ae-40e2-9d50-7e5aeda7f8a1",
   "metadata": {},
   "outputs": [],
   "source": [
    "ds.sd.hvplot(x='longitude', y='latitude', geo=True, cmap='turbo', rasterize=True,  tiles='ESRI')"
   ]
  },
  {
   "cell_type": "code",
   "execution_count": null,
   "id": "9a7e8434-cdf4-472b-a37a-5f462ebbd6c5",
   "metadata": {},
   "outputs": [],
   "source": [
    "ds.sd"
   ]
  },
  {
   "cell_type": "code",
   "execution_count": null,
   "id": "b0bdbebe-48c1-4a20-a488-aae61c44d644",
   "metadata": {},
   "outputs": [],
   "source": [
    "%%time\n",
    "da = ds['sd'].sel(time=slice('1994-08-01','1996-08-01')).sel(latitude=39.6273874, longitude=-105.87, method='nearest')"
   ]
  },
  {
   "cell_type": "code",
   "execution_count": null,
   "id": "970e9e4b-8123-469d-99bc-df4eef910c88",
   "metadata": {},
   "outputs": [],
   "source": [
    "da"
   ]
  },
  {
   "cell_type": "code",
   "execution_count": null,
   "id": "3449bd58-2a21-4e0c-a3a6-db82c81c87b0",
   "metadata": {},
   "outputs": [],
   "source": [
    "%%time\n",
    "da = da.load()"
   ]
  },
  {
   "cell_type": "code",
   "execution_count": null,
   "id": "68608489-cc60-485a-ba44-c06fd99234fe",
   "metadata": {},
   "outputs": [],
   "source": [
    "da.hvplot(x='time', grid=True)"
   ]
  },
  {
   "cell_type": "markdown",
   "id": "45599b2b-b8b5-40b0-b947-946db29751c1",
   "metadata": {},
   "source": [
    "#### Use Intake to improve user experience"
   ]
  },
  {
   "cell_type": "code",
   "execution_count": null,
   "id": "967b991d-6554-4639-8863-d8d5daf4d6ef",
   "metadata": {},
   "outputs": [],
   "source": [
    "import intake"
   ]
  },
  {
   "cell_type": "code",
   "execution_count": null,
   "id": "62e5ec01-0215-422b-8387-e00e5d582857",
   "metadata": {},
   "outputs": [],
   "source": [
    "intake_catalog_url = 's3://esip-qhub/usgs/era5_land/era5_intake.yml'"
   ]
  },
  {
   "cell_type": "code",
   "execution_count": null,
   "id": "238d3b0e-25bc-4411-a455-a3b7b80b84a3",
   "metadata": {},
   "outputs": [],
   "source": [
    "cat = intake.open_catalog(intake_catalog_url)\n",
    "list(cat)"
   ]
  },
  {
   "cell_type": "code",
   "execution_count": null,
   "id": "a787e3fe-9225-4ae5-8894-f56ce35d6435",
   "metadata": {},
   "outputs": [],
   "source": [
    "ds = cat['era5-land'].to_dask()"
   ]
  },
  {
   "cell_type": "code",
   "execution_count": null,
   "id": "e847eb9b-b9bf-4680-ab97-cec2c1fe82c3",
   "metadata": {},
   "outputs": [],
   "source": [
    "ds.sd"
   ]
  },
  {
   "cell_type": "markdown",
   "id": "937b283b-87c9-4f34-b901-9dc445de4954",
   "metadata": {},
   "source": [
    "#### Use Panel to improve user experience"
   ]
  },
  {
   "cell_type": "code",
   "execution_count": null,
   "id": "ce8fb145-fc15-4ef3-b2a2-6fff4b357319",
   "metadata": {},
   "outputs": [],
   "source": [
    "import panel as pn\n",
    "from geoviews import tile_sources as gvts\n",
    "import pandas as pd\n",
    "import cf_xarray"
   ]
  },
  {
   "cell_type": "code",
   "execution_count": null,
   "id": "5ef0c573-e01b-4029-88d4-45ea5abe8567",
   "metadata": {},
   "outputs": [],
   "source": [
    "datetimes = pd.to_datetime(ds['time'])\n",
    "start = datetimes.min(); end = datetimes.max()\n",
    "enabled = datetimes.strftime(\"%Y-%m-%d %H:%M:%S\").tolist()\n",
    "print(start)"
   ]
  },
  {
   "cell_type": "code",
   "execution_count": null,
   "id": "c611f4d0-b874-4b90-8bb5-58fd74d2e5d4",
   "metadata": {},
   "outputs": [],
   "source": [
    "datetime_picker = pn.widgets.DatetimePicker(name=\"Datetime\", value=start, start=start, end=end, enabled_dates=enabled)"
   ]
  },
  {
   "cell_type": "code",
   "execution_count": null,
   "id": "2439bff0-3778-4da0-b6af-25219c381754",
   "metadata": {},
   "outputs": [],
   "source": [
    "base_map_select = pn.widgets.Select(name='Basemap:', options=gvts.tile_sources, value=gvts.OSM)"
   ]
  },
  {
   "cell_type": "code",
   "execution_count": null,
   "id": "cd87d5be-99fe-4518-b6f8-2622c0d70605",
   "metadata": {},
   "outputs": [],
   "source": [
    "ds.data_vars"
   ]
  },
  {
   "cell_type": "code",
   "execution_count": null,
   "id": "34df167f-db22-421f-9f66-8cd75452f871",
   "metadata": {},
   "outputs": [],
   "source": [
    "vars = list(ds.data_vars)\n",
    "var_select = pn.widgets.Select(name='ERA5-Land Variables:', options=vars, value=vars[0])"
   ]
  },
  {
   "cell_type": "code",
   "execution_count": null,
   "id": "69c9c282-ad67-4abe-a2a4-6866a0e4bcc5",
   "metadata": {},
   "outputs": [],
   "source": [
    "def set_tools(plot, element):\n",
    "    plot.state.toolbar.active_inspect = None   #turns off hover by default"
   ]
  },
  {
   "cell_type": "code",
   "execution_count": null,
   "id": "57d27e10-8d92-427d-801a-8ed84b3b62d3",
   "metadata": {},
   "outputs": [],
   "source": [
    "# quadmesh with DatePicker\n",
    "@pn.depends(var_select, base_map_select, datetime_picker)\n",
    "def qm_dp_plot(var, base_map, date):\n",
    "    da = ds[var].cf.sel(T=date, method=\"nearest\")\n",
    "    mesh = da.hvplot.image(x=da.cf['longitude'].name, y=da.cf['latitude'].name, \n",
    "                            rasterize=True, geo=True, title=var, \n",
    "                            cmap='turbo').opts(alpha=0.7, hooks=[set_tools], active_tools=['pan', 'box_zoom'])\n",
    "    viz = pn.panel(mesh * base_map)\n",
    "    return viz"
   ]
  },
  {
   "cell_type": "code",
   "execution_count": null,
   "id": "d2976b3c-a3ba-4108-a997-2faa71cdc9f8",
   "metadata": {},
   "outputs": [],
   "source": [
    "dashboard = pn.Column(pn.Row(base_map_select, var_select, datetime_picker), qm_dp_plot)"
   ]
  },
  {
   "cell_type": "code",
   "execution_count": null,
   "id": "1d36e77a-2004-4986-9dfa-f3d0135d1fe3",
   "metadata": {},
   "outputs": [],
   "source": [
    "dashboard.servable('ERA5-Land Explorer')"
   ]
  },
  {
   "cell_type": "code",
   "execution_count": null,
   "id": "aca75838-e6cc-413c-81ad-8a6117debf4f",
   "metadata": {},
   "outputs": [],
   "source": []
  }
 ],
 "metadata": {
  "kernelspec": {
   "display_name": "users-pangeo",
   "language": "python",
   "name": "conda-env-users-pangeo-py"
  },
  "language_info": {
   "codemirror_mode": {
    "name": "ipython",
    "version": 3
   },
   "file_extension": ".py",
   "mimetype": "text/x-python",
   "name": "python",
   "nbconvert_exporter": "python",
   "pygments_lexer": "ipython3",
   "version": "3.9.13"
  }
 },
 "nbformat": 4,
 "nbformat_minor": 5
}
