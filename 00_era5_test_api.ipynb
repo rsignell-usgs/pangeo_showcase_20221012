{
 "cells": [
  {
   "cell_type": "markdown",
   "id": "93744300-0bc8-453e-b801-a4b1ced3b802",
   "metadata": {},
   "source": [
    "# Obtain NetCDF file from ERA5-Land using the CDSAPI\n",
    "Information here: https://confluence.ecmwf.int/display/CKB/ERA5-Land%3A+data+documentation"
   ]
  },
  {
   "cell_type": "code",
   "execution_count": null,
   "id": "9a5cc283-be10-4cf0-ba8d-d5f3148ddbde",
   "metadata": {},
   "outputs": [],
   "source": [
    "import xarray as xr\n",
    "import hvplot.xarray\n",
    "import pandas as pd\n",
    "import fsspec\n",
    "import cdsapi"
   ]
  },
  {
   "cell_type": "code",
   "execution_count": null,
   "id": "8e1b8fdb-c697-4162-9442-e2b4f4cc5c4a",
   "metadata": {},
   "outputs": [],
   "source": [
    "c = cdsapi.Client()"
   ]
  },
  {
   "cell_type": "markdown",
   "id": "dff5180f-c026-4223-83f4-69698f7d4e15",
   "metadata": {},
   "source": [
    "#### Specify variables, spatial and temporal extents"
   ]
  },
  {
   "cell_type": "code",
   "execution_count": null,
   "id": "d9c375ea-97c2-4fd9-bfcb-7993ed84249e",
   "metadata": {},
   "outputs": [],
   "source": [
    "var_list = ['snow_depth_water_equivalent', 'soil_temperature_level_1']"
   ]
  },
  {
   "cell_type": "code",
   "execution_count": null,
   "id": "68a014cc-566f-428a-8838-f8c74bd08e47",
   "metadata": {},
   "outputs": [],
   "source": [
    "# CONUS\n",
    "north = 49.3457868 \n",
    "west = -124.7844079 \n",
    "east = -66.9513812 \n",
    "south =  24.7433195 "
   ]
  },
  {
   "cell_type": "code",
   "execution_count": null,
   "id": "c435078c-9666-4b12-94de-63049ea66de2",
   "metadata": {},
   "outputs": [],
   "source": [
    "fs = fsspec.filesystem('s3', anon=False,  skip_instance_cache=True)"
   ]
  },
  {
   "cell_type": "code",
   "execution_count": null,
   "id": "c8912fc6-8673-415c-9b70-05c640e79906",
   "metadata": {},
   "outputs": [],
   "source": [
    "dates = pd.date_range('1980-12-01','2022-01-31', freq='14D')\n",
    "print(dates)"
   ]
  },
  {
   "cell_type": "code",
   "execution_count": null,
   "id": "42ee94a5-51cb-4c12-9148-2cbae46b2fd4",
   "metadata": {},
   "outputs": [],
   "source": [
    "start_dates = [date.strftime('%Y-%m-%d') for date in dates[:-1]]"
   ]
  },
  {
   "cell_type": "code",
   "execution_count": null,
   "id": "a89634a2-cf74-409b-bff6-4537821020b0",
   "metadata": {},
   "outputs": [],
   "source": [
    "s3_files = [f'esip-qhub/usgs/era5_land1/conus_{start_date}.nc' for start_date in start_dates]"
   ]
  },
  {
   "cell_type": "code",
   "execution_count": null,
   "id": "e33c9c9e-bbcf-445f-b5e6-be964aaaf4ec",
   "metadata": {},
   "outputs": [],
   "source": [
    "s3file = s3_files[0]\n",
    "s3file"
   ]
  },
  {
   "cell_type": "code",
   "execution_count": null,
   "id": "b0821072-0f7f-4337-a941-6cd44e9da83b",
   "metadata": {},
   "outputs": [],
   "source": [
    "import datetime as dt   \n",
    "start_date = s3file.split('_')[-1].split('.')[0]\n",
    "s = start_date.split('-')\n",
    "stop_date = (dt.datetime(int(s[0]),int(s[1]),int(s[2])) + pd.offsets.Day(13)).strftime('%Y-%m-%d')\n",
    "local_ncfile = f'era5land_{start_date}.nc'\n",
    "c.retrieve(\n",
    "    'reanalysis-era5-land',\n",
    "    {\n",
    "        'variable': var_list, \n",
    "        'area'    : f'{north}/{west}/{south}/{east}', \n",
    "        'date'    : f'{start_date}/{stop_date}',\n",
    "        'time': ['00:00', '01:00', '02:00', '03:00', '04:00', '05:00',\n",
    "                 '06:00', '07:00', '08:00', '09:00', '10:00', '11:00',\n",
    "                 '12:00', '13:00', '14:00', '15:00', '16:00', '17:00',\n",
    "                 '18:00', '19:00', '20:00', '21:00', '22:00', '23:00'],\n",
    "        'format':'netcdf'\n",
    "    },\n",
    "    local_ncfile)\n",
    "\n",
    "ds = xr.open_dataset(local_ncfile)"
   ]
  },
  {
   "cell_type": "code",
   "execution_count": null,
   "id": "b2fcaef6-e781-4ad6-a77b-e3a94d6557fe",
   "metadata": {},
   "outputs": [],
   "source": [
    "ds"
   ]
  },
  {
   "cell_type": "code",
   "execution_count": null,
   "id": "72d16ea4-feea-42a1-8526-887eae246640",
   "metadata": {},
   "outputs": [],
   "source": [
    "ds.sd"
   ]
  },
  {
   "cell_type": "code",
   "execution_count": null,
   "id": "6a26d099-0524-44f3-b1b0-2d4790777077",
   "metadata": {},
   "outputs": [],
   "source": [
    "da = ds['sd'].isel(time=-1)\n",
    "da.hvplot.image(x='longitude', y='latitude', geo=True, rasterize=True, tiles='ESRI')"
   ]
  },
  {
   "cell_type": "code",
   "execution_count": null,
   "id": "e59a9854-e20e-4e3a-b309-9733e6d38f1d",
   "metadata": {},
   "outputs": [],
   "source": [
    "ds.sd.encoding"
   ]
  },
  {
   "cell_type": "code",
   "execution_count": null,
   "id": "ce0342d3-7ca8-47fd-9e56-5858c922de11",
   "metadata": {},
   "outputs": [],
   "source": []
  }
 ],
 "metadata": {
  "kernelspec": {
   "display_name": "users-pangeo",
   "language": "python",
   "name": "conda-env-users-pangeo-py"
  },
  "language_info": {
   "codemirror_mode": {
    "name": "ipython",
    "version": 3
   },
   "file_extension": ".py",
   "mimetype": "text/x-python",
   "name": "python",
   "nbconvert_exporter": "python",
   "pygments_lexer": "ipython3",
   "version": "3.9.13"
  }
 },
 "nbformat": 4,
 "nbformat_minor": 5
}
