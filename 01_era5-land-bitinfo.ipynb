{
 "cells": [
  {
   "cell_type": "markdown",
   "id": "5cf6238f-6ee2-4359-abda-8599a0a1c734",
   "metadata": {},
   "source": [
    "# Bitinfo for ERA5-Land data\n",
    "Here we determine the keepbits for 99% real information using xbitinfo"
   ]
  },
  {
   "cell_type": "code",
   "execution_count": null,
   "id": "31a0b36f-bbdb-4f21-869a-254626621047",
   "metadata": {},
   "outputs": [],
   "source": [
    "import xarray as xr\n",
    "import xbitinfo as xb\n",
    "import hvplot.xarray\n",
    "import fsspec "
   ]
  },
  {
   "cell_type": "code",
   "execution_count": null,
   "id": "e54a2edf-3e35-449b-9996-17ed64e7381b",
   "metadata": {},
   "outputs": [],
   "source": [
    "nc3_file = 'era5land_1980-12-01.nc'\n",
    "nc4_file = 'era5land_1980-12-01-c99.nc'"
   ]
  },
  {
   "cell_type": "code",
   "execution_count": null,
   "id": "f83dc7d4-f902-4a62-9d6d-7ced08b58243",
   "metadata": {},
   "outputs": [],
   "source": [
    "ds = xr.open_dataset(nc3_file, chunks={})"
   ]
  },
  {
   "cell_type": "code",
   "execution_count": null,
   "id": "95cdfedc-97c1-42d8-8f22-a171cff02899",
   "metadata": {},
   "outputs": [],
   "source": [
    "ds"
   ]
  },
  {
   "cell_type": "code",
   "execution_count": null,
   "id": "9d5a2609-8b09-452b-afd8-536c9358faa4",
   "metadata": {},
   "outputs": [],
   "source": [
    "bitinfo = xb.get_bitinformation(ds, dim=\"time\")  \n",
    "keepbits = xb.get_keepbits(bitinfo, inflevel=0.99)  # get number of mantissa bits to keep for 99% real information"
   ]
  },
  {
   "cell_type": "code",
   "execution_count": null,
   "id": "21e9ed2b-2c37-4dd5-bb56-964fb8545ff7",
   "metadata": {},
   "outputs": [],
   "source": [
    "print(keepbits)"
   ]
  },
  {
   "cell_type": "code",
   "execution_count": null,
   "id": "e4474c22-9f73-4bc9-a3a0-71d856a1420e",
   "metadata": {},
   "outputs": [],
   "source": [
    "keepbits.to_netcdf('keepbits.nc', mode='w')"
   ]
  },
  {
   "cell_type": "code",
   "execution_count": null,
   "id": "06d090ca-53c9-4334-a5eb-cfabe6f2025f",
   "metadata": {},
   "outputs": [],
   "source": [
    "ds_bitrounded = xb.xr_bitround(ds, keepbits)\n",
    "encoding = {}\n",
    "for data_var in ds.data_vars:\n",
    "    encoding[data_var]=dict(dtype='float32', zlib=True)\n",
    "\n",
    "encoding['latitude'] = {'_FillValue':None}\n",
    "encoding['longitude'] = {'_FillValue':None}\n",
    "\n",
    "ds_bitrounded.to_netcdf(nc4_file, engine='netcdf4', encoding=encoding, mode='w')  "
   ]
  },
  {
   "cell_type": "code",
   "execution_count": null,
   "id": "21cc1287-20cd-4fc1-b4f3-e86617fb9672",
   "metadata": {},
   "outputs": [],
   "source": [
    "!du -hs *.nc"
   ]
  },
  {
   "cell_type": "code",
   "execution_count": null,
   "id": "36e10a95-ce14-458e-800a-5818a8e282cb",
   "metadata": {},
   "outputs": [],
   "source": []
  }
 ],
 "metadata": {
  "kernelspec": {
   "display_name": "users-pangeo",
   "language": "python",
   "name": "conda-env-users-pangeo-py"
  },
  "language_info": {
   "codemirror_mode": {
    "name": "ipython",
    "version": 3
   },
   "file_extension": ".py",
   "mimetype": "text/x-python",
   "name": "python",
   "nbconvert_exporter": "python",
   "pygments_lexer": "ipython3",
   "version": "3.9.13"
  }
 },
 "nbformat": 4,
 "nbformat_minor": 5
}
